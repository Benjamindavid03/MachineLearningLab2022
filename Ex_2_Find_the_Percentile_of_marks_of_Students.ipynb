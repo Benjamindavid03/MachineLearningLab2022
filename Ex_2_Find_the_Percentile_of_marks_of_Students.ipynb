{
  "nbformat": 4,
  "nbformat_minor": 0,
  "metadata": {
    "colab": {
      "provenance": [],
      "include_colab_link": true
    },
    "kernelspec": {
      "name": "python3",
      "display_name": "Python 3"
    },
    "language_info": {
      "name": "python"
    }
  },
  "cells": [
    {
      "cell_type": "markdown",
      "metadata": {
        "id": "view-in-github",
        "colab_type": "text"
      },
      "source": [
        "<a href=\"https://colab.research.google.com/github/Benjamindavid03/MachineLearningLab2022/blob/main/Ex_2_Find_the_Percentile_of_marks_of_Students.ipynb\" target=\"_parent\"><img src=\"https://colab.research.google.com/assets/colab-badge.svg\" alt=\"Open In Colab\"/></a>"
      ]
    },
    {
      "cell_type": "markdown",
      "source": [
        "# Ex 2 : Find the Percentile of marks of Students"
      ],
      "metadata": {
        "id": "bY_CFB_ZXrPB"
      }
    },
    {
      "cell_type": "code",
      "execution_count": null,
      "metadata": {
        "colab": {
          "base_uri": "https://localhost:8080/"
        },
        "id": "jxV5zH2sVB7y",
        "outputId": "8b3e6ea9-b320-4330-9528-380071de0f02"
      },
      "outputs": [
        {
          "output_type": "stream",
          "name": "stdout",
          "text": [
            "Percentile of Student  1  =  0\n",
            "Percentile of Student  2  =  66\n",
            "Percentile of Student  3  =  50\n",
            "Percentile of Student  4  =  16\n",
            "Percentile of Student  5  =  100\n",
            "Percentile of Student  6  =  83\n",
            "Percentile of Student  7  =  33\n"
          ]
        }
      ],
      "source": [
        "# Function to calculate the percentile\n",
        "def percentile(arr, n):\n",
        "    i, j = 0, 0\n",
        "    count, percent = 0, 0\n",
        "    # Start of the loop that calculates percentile\n",
        "    while i < n:\n",
        "        count = 0\n",
        "        j = 0\n",
        "        while j < n:\n",
        "            # Comparing the marks of student i\n",
        "            # with all other students\n",
        "            if (arr[i] > arr[j]):\n",
        "                count += 1\n",
        "            j += 1\n",
        "        percent = (count * 100) // (n - 1) #floor division divides the first number by the second number and rounds the result down to the nearest integer\n",
        "        print(\"Percentile of Student \", i + 1,\" = \", percent)\n",
        "        i += 1\n",
        "\n",
        "# Driver Code\n",
        "StudentMarks = [12, 60, 34, 18, 80, 71, 30]\n",
        "n = len(StudentMarks)\n",
        "percentile(StudentMarks, n)"
      ]
    }
  ]
}