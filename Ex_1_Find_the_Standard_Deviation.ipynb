{
  "nbformat": 4,
  "nbformat_minor": 0,
  "metadata": {
    "colab": {
      "provenance": [],
      "authorship_tag": "ABX9TyMJKNhMBIAZ6zXxlYK/4yl7",
      "include_colab_link": true
    },
    "kernelspec": {
      "name": "python3",
      "display_name": "Python 3"
    },
    "language_info": {
      "name": "python"
    }
  },
  "cells": [
    {
      "cell_type": "markdown",
      "metadata": {
        "id": "view-in-github",
        "colab_type": "text"
      },
      "source": [
        "<a href=\"https://colab.research.google.com/github/Benjamindavid03/MachineLearningLab2022/blob/main/Ex_1_Find_the_Standard_Deviation.ipynb\" target=\"_parent\"><img src=\"https://colab.research.google.com/assets/colab-badge.svg\" alt=\"Open In Colab\"/></a>"
      ]
    },
    {
      "cell_type": "markdown",
      "source": [
        "# Ex 1 : Find the Standard Deviation for speed of a car using numpy"
      ],
      "metadata": {
        "id": "cDneR_HUta65"
      }
    },
    {
      "cell_type": "code",
      "execution_count": null,
      "metadata": {
        "colab": {
          "base_uri": "https://localhost:8080/"
        },
        "id": "Ef48yKLAtWyG",
        "outputId": "7c69166c-d8ce-493f-f4e1-e03970f17c20"
      },
      "outputs": [
        {
          "output_type": "stream",
          "name": "stdout",
          "text": [
            "SD :  45.05534790676907\n"
          ]
        }
      ],
      "source": [
        "import numpy as np\n",
        "a = np.array([97,98,100,102,150,132,110,7,18,19,80,41,120,100,3,65])\n",
        "print(\"SD : \", np.std(a)) # higher SD signifies more spread of the data"
      ]
    },
    {
      "cell_type": "markdown",
      "source": [
        "## Extra\n",
        "\n",
        "### Standard Deviation\n",
        "<p>In statistics, the Standard Deviation (SD - σ (sigma)) is a measure of the amount of variation of a random variable expected about its mean. </p>\n",
        "\n",
        "<p>A low standard deviation indicates that the values tend to be close to the mean (also called the expected value) of the set, while a high standard deviation indicates that the values are spread out over a wider range. </p>\n",
        "\n",
        "<p>The standard deviation is commonly used in the determination of what constitutes an outlier and what does not.</p>\n",
        "\n",
        "<p>The standard deviation of a random variable, sample, statistical population, data set, or probability distribution is the square root of its variance.</p>\n",
        "\n",
        "\n",
        "### variance\n",
        "<p>In probability theory and statistics, variance is the expected value of the squared deviation from the mean of a random variable. </p>\n",
        "\n",
        "<p>The standard deviation (SD) is obtained as the square root of the variance. Variance is a measure of dispersion, meaning it is a measure of how far a set of numbers is spread out from their average value.</p>"
      ],
      "metadata": {
        "id": "OcEni14c6a_0"
      }
    },
    {
      "cell_type": "markdown",
      "source": [],
      "metadata": {
        "id": "Nzjyp_ij6gQ1"
      }
    },
    {
      "cell_type": "code",
      "source": [],
      "metadata": {
        "id": "SXMdtAMK6do9"
      },
      "execution_count": null,
      "outputs": []
    }
  ]
}