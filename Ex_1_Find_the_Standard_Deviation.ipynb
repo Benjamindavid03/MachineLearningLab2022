{
  "nbformat": 4,
  "nbformat_minor": 0,
  "metadata": {
    "colab": {
      "provenance": [],
      "authorship_tag": "ABX9TyMkcBqQq38+CBkrGeQe3i/7",
      "include_colab_link": true
    },
    "kernelspec": {
      "name": "python3",
      "display_name": "Python 3"
    },
    "language_info": {
      "name": "python"
    }
  },
  "cells": [
    {
      "cell_type": "markdown",
      "metadata": {
        "id": "view-in-github",
        "colab_type": "text"
      },
      "source": [
        "<a href=\"https://colab.research.google.com/github/Benjamindavid03/MachineLearningLab2022/blob/main/Ex_1_Find_the_Standard_Deviation.ipynb\" target=\"_parent\"><img src=\"https://colab.research.google.com/assets/colab-badge.svg\" alt=\"Open In Colab\"/></a>"
      ]
    },
    {
      "cell_type": "markdown",
      "source": [
        "# Ex 1 : Find the Standard Deviation for speed of a car using numpy"
      ],
      "metadata": {
        "id": "cDneR_HUta65"
      }
    },
    {
      "cell_type": "code",
      "execution_count": null,
      "metadata": {
        "colab": {
          "base_uri": "https://localhost:8080/"
        },
        "id": "Ef48yKLAtWyG",
        "outputId": "7c69166c-d8ce-493f-f4e1-e03970f17c20"
      },
      "outputs": [
        {
          "output_type": "stream",
          "name": "stdout",
          "text": [
            "SD :  45.05534790676907\n"
          ]
        }
      ],
      "source": [
        "import numpy as np\n",
        "a = np.array([97,98,100,102,150,132,110,7,18,19,80,41,120,100,3,65])\n",
        "print(\"SD : \", np.std(a)) # higher SD signifies more spread of the data"
      ]
    },
    {
      "cell_type": "code",
      "source": [
        "import pandas as pd\n",
        "import numpy as np\n",
        "\n",
        "# Sample data including additional parameters\n",
        "data = {\n",
        "    'Car': ['Toyota', 'Honda', 'Ford', 'BMW', 'Tesla'],\n",
        "    'Speed': [180, 200, 170, 210, 250],\n",
        "    'Mileage': [30, 32, 28, 25, 20],  # miles per litre\n",
        "    'Price': [18, 12, 17, 45, 60]     # lakhs\n",
        "}\n",
        "\n",
        "# Creating DataFrame\n",
        "df = pd.DataFrame(data)\n",
        "\n",
        "# Calculate standard deviation of 'Speed' column\n",
        "speed_std_dev = np.std(df['Speed'])\n",
        "\n",
        "# Print the standard deviation\n",
        "print(\"Standard Deviation of Speed:\", speed_std_dev)\n"
      ],
      "metadata": {
        "colab": {
          "base_uri": "https://localhost:8080/"
        },
        "id": "LVyLn-X0-Iso",
        "outputId": "fc9d185d-a8a9-46f6-9ab9-ab9a17ba4824"
      },
      "execution_count": 1,
      "outputs": [
        {
          "output_type": "stream",
          "name": "stdout",
          "text": [
            "Standard Deviation of Speed: 27.85677655436824\n"
          ]
        }
      ]
    },
    {
      "cell_type": "markdown",
      "source": [
        "## Extra\n",
        "\n",
        "### Standard Deviation\n",
        "<p>In statistics, the Standard Deviation (SD - σ (sigma)) is a measure of the amount of variation of a random variable expected about its mean. </p>\n",
        "\n",
        "<p>A low standard deviation indicates that the values tend to be close to the mean (also called the expected value) of the set, while a high standard deviation indicates that the values are spread out over a wider range. </p>\n",
        "\n",
        "<p>The standard deviation is commonly used in the determination of what constitutes an outlier and what does not.</p>\n",
        "\n",
        "<p>The standard deviation of a random variable, sample, statistical population, data set, or probability distribution is the square root of its variance.</p>\n",
        "\n",
        "### variance\n",
        "<p>In probability theory and statistics, variance is the expected value of the squared deviation from the mean of a random variable. </p>\n",
        "\n",
        "<p>The standard deviation (SD) is obtained as the square root of the variance. Variance is a measure of dispersion, meaning it is a measure of how far a set of numbers is spread out from their average value.</p>\n",
        "\n",
        "### SD Applicability\n",
        "\n",
        "Let's say you're analyzing the performance of two different investment portfolios over the past year. Portfolio A has had a steady growth rate, with returns consistently around 8% each month. Portfolio B, however, has been more volatile, with returns varying widely from month to month: 5%, 12%, -3%, 10%, and so on.\n",
        "\n",
        "To compare the volatility or dispersion of returns between these two portfolios, you can calculate the standard deviation for each:\n",
        "\n",
        "For Portfolio A, the returns are relatively stable around 8%. The standard deviation would be low because the returns don't deviate much from the average.\n",
        "\n",
        "For Portfolio B, because the returns vary significantly from month to month, the standard deviation would be higher. This indicates that the returns are more spread out from the average, reflecting higher volatility.\n",
        "\n",
        "In this example, standard deviation helps you understand and quantify the risk or variability in returns for each portfolio. Portfolio B's higher standard deviation suggests that it has greater potential for both higher returns and higher losses compared to Portfolio A, which has a lower standard deviation and therefore lower risk (but potentially lower returns as well).\n",
        "\n",
        "\n",
        "\n"
      ],
      "metadata": {
        "id": "OcEni14c6a_0"
      }
    },
    {
      "cell_type": "markdown",
      "source": [],
      "metadata": {
        "id": "Nzjyp_ij6gQ1"
      }
    },
    {
      "cell_type": "code",
      "source": [],
      "metadata": {
        "id": "SXMdtAMK6do9"
      },
      "execution_count": null,
      "outputs": []
    }
  ]
}