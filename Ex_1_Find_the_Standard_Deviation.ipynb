{
  "nbformat": 4,
  "nbformat_minor": 0,
  "metadata": {
    "colab": {
      "provenance": [],
      "authorship_tag": "ABX9TyNM9yJ0gV7Fd+/Muoopiad5",
      "include_colab_link": true
    },
    "kernelspec": {
      "name": "python3",
      "display_name": "Python 3"
    },
    "language_info": {
      "name": "python"
    }
  },
  "cells": [
    {
      "cell_type": "markdown",
      "metadata": {
        "id": "view-in-github",
        "colab_type": "text"
      },
      "source": [
        "<a href=\"https://colab.research.google.com/github/Benjamindavid03/MachineLearningLab2022/blob/main/Ex_1_Find_the_Standard_Deviation.ipynb\" target=\"_parent\"><img src=\"https://colab.research.google.com/assets/colab-badge.svg\" alt=\"Open In Colab\"/></a>"
      ]
    },
    {
      "cell_type": "markdown",
      "source": [
        "# Ex 1 : Find the Standard Deviation for speed of a car using numpy"
      ],
      "metadata": {
        "id": "cDneR_HUta65"
      }
    },
    {
      "cell_type": "code",
      "execution_count": 2,
      "metadata": {
        "colab": {
          "base_uri": "https://localhost:8080/"
        },
        "id": "Ef48yKLAtWyG",
        "outputId": "7c69166c-d8ce-493f-f4e1-e03970f17c20"
      },
      "outputs": [
        {
          "output_type": "stream",
          "name": "stdout",
          "text": [
            "SD :  45.05534790676907\n"
          ]
        }
      ],
      "source": [
        "import numpy as np\n",
        "a = np.array([97,98,100,102,150,132,110,7,18,19,80,41,120,100,3,65])\n",
        "print(\"SD : \", np.std(a)) # higher SD signifies more spread of the data"
      ]
    }
  ]
}